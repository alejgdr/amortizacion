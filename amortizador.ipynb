{
 "cells": [
  {
   "cell_type": "code",
   "execution_count": 153,
   "id": "f4a149ba-0ecb-445e-b15e-f16e52c2a7f6",
   "metadata": {},
   "outputs": [],
   "source": [
    "import pandas as pd\n",
    "import matplotlib.pyplot as plt\n",
    "import numpy as np"
   ]
  },
  {
   "cell_type": "code",
   "execution_count": 399,
   "id": "95c05dd7-2137-4b9e-a468-7560a35036e2",
   "metadata": {},
   "outputs": [],
   "source": [
    "# THis is the function that adds a row to the summary, for every match and every failed check that appears. \n",
    "def flattening_list(list_dictionaries):\n",
    "    dictionaries=[]\n",
    "    for element in list_dictionaries:\n",
    "        if isinstance(element,dict):\n",
    "            dictionaries.append(element)\n",
    "        if isinstance(element,dict)==False:\n",
    "            for dictionary in element:\n",
    "                dictionaries.append(dictionary)\n",
    "        if element is None:\n",
    "            pass\n",
    "    return(dictionaries)\n",
    "def add_to_summary_table( no_pago, valor_inicial, pago_capital ,intereses,valor_nuevo,pago_acumulado, pago_intereses_acum, pago_capital_acum): \n",
    "    no_pago_list=[]\n",
    "    valor_inicial_list=[]\n",
    "    pago_capital_list=[]\n",
    "    intereses_list=[]\n",
    "    valor_nuevo_list=[]\n",
    "    pago_acumulado_list=[]\n",
    "    pago_intereses_acum_list=[]\n",
    "    pago_capital_acum_list=[]\n",
    "\n",
    "    no_pago_list.append(no_pago)\n",
    "    valor_inicial_list.append(valor_inicial)\n",
    "    pago_capital_list.append(pago_capital)\n",
    "    intereses_list.append(intereses)\n",
    "    valor_nuevo_list.append(valor_nuevo)\n",
    "    pago_acumulado_list.append(pago_acumulado)\n",
    "    pago_intereses_acum_list.append(pago_intereses_acum)\n",
    "    pago_capital_acum_list.append(pago_capital_acum)\n",
    "\n",
    "\n",
    "\n",
    "    failed_checks_dict= {'periodo':no_pago_list\n",
    "                         ,'saldo_inicial':valor_inicial_list\n",
    "                        ,'pago_capital': pago_capital_list\n",
    "                        ,'intereses':intereses_list\n",
    "                        ,'saldo_final':valor_nuevo_list\n",
    "                        , 'pago_acumulado':pago_acumulado_list\n",
    "                        ,'pago_intereses_acum':pago_intereses_acum_list\n",
    "                        ,'pago_capital_acum':pago_capital_acum_list}\n",
    "    return(failed_checks_dict) #dictionary with match failed checks\n",
    "\n",
    "def dictionaries_joining(dictionaries): #Joins the failed_df dictionaries and converts it to a dataframe.\n",
    "    for num in range(0,len(dictionaries)-1):\n",
    "        # print(num)\n",
    "        for key in dictionaries[0]:\n",
    "            if key in dictionaries[num+1]:\n",
    "                for value in dictionaries[num+1][key]:\n",
    "                    dictionaries[0][key] += [value]\n",
    "    dict_df=dictionaries[0]#pd.DataFrame(dictionaries[0])\n",
    "    return(dict_df)  "
   ]
  },
  {
   "cell_type": "code",
   "execution_count": 504,
   "id": "f3780bc3-b474-4d61-bee2-551bfd79c0ea",
   "metadata": {},
   "outputs": [
    {
     "data": {
      "text/plain": [
       "0.008050470307310986"
      ]
     },
     "execution_count": 504,
     "metadata": {},
     "output_type": "execute_result"
    }
   ],
   "source": [
    "tasa_equivalente_anual= .1010 #.85 # para lo del TEC\n",
    "tasa_equivalente_mensual = ((1+tasa_equivalente_anual)**(1/12))-1\n",
    "tasa_equivalente_mensual"
   ]
  },
  {
   "cell_type": "code",
   "execution_count": 636,
   "id": "c6936d3f-2ddb-4d07-bebe-71dc7434bf40",
   "metadata": {},
   "outputs": [],
   "source": [
    "valor_inicial=117586.77#+817.55#-2186.68\n",
    "tasa=.007\n",
    "pago_mensual=[500,3004.23]\n",
    "periodos_pagos=[6,46]\n",
    "seguros= 0"
   ]
  },
  {
   "cell_type": "code",
   "execution_count": 627,
   "id": "055c124a-cdcb-416e-94cb-f6f8e6af586c",
   "metadata": {},
   "outputs": [],
   "source": [
    "valor_inicial= 410332\n",
    "tasa=tasa_equivalente_mensual \n",
    "pago_mensual= 4800#+6000#*2#4734*2\n",
    "pagos_extras = 350\n",
    "seguros= 0\n",
    "meses=12*19"
   ]
  },
  {
   "cell_type": "code",
   "execution_count": 628,
   "id": "d0716bea-aaac-4a14-b5cd-3a2279c063a0",
   "metadata": {},
   "outputs": [
    {
     "name": "stdout",
     "output_type": "stream",
     "text": [
      "Pago terminado en periodo  12.166666666666666\n"
     ]
    },
    {
     "data": {
      "text/plain": [
       "-3147.87"
      ]
     },
     "execution_count": 628,
     "metadata": {},
     "output_type": "execute_result"
    }
   ],
   "source": [
    "\n",
    "\n",
    "\n",
    "valor_nuevo=valor_inicial\n",
    "pago_acumulado= 0\n",
    "pago_intereses_acum=0\n",
    "pago_capital_acum=0\n",
    "table_dict=[]\n",
    "periods=[]\n",
    "for no_pago in range (1,meses): # meses\n",
    "    periods.append(no_pago)\n",
    "    pago_acumulado+=pago_mensual\n",
    "    valor_inicial= round(valor_nuevo,2)\n",
    "    intereses= round(((valor_inicial)*(tasa)),2)\n",
    "    pago_intereses_acum+=intereses\n",
    "    valor_c_intereses =round(valor_inicial + intereses,2)\n",
    "    pago_capital= round(pago_mensual- intereses,2)\n",
    "    pago_capital_acum+= pago_capital\n",
    "    valor_nuevo= round(valor_c_intereses - pago_mensual,2)\n",
    "    table_dict.append(add_to_summary_table(no_pago, valor_inicial, pago_capital ,intereses,valor_nuevo,pago_acumulado, pago_intereses_acum, pago_capital_acum))\n",
    "        \n",
    "    if valor_nuevo<=0:\n",
    "        print('Pago terminado en periodo ',no_pago/12 )\n",
    "        break\n",
    "        \n",
    "    \n",
    "valor_nuevo"
   ]
  },
  {
   "cell_type": "code",
   "execution_count": 629,
   "id": "ae9fd960-769f-48e0-ba31-611b9b8df8ca",
   "metadata": {},
   "outputs": [
    {
     "data": {
      "text/html": [
       "<div>\n",
       "<style scoped>\n",
       "    .dataframe tbody tr th:only-of-type {\n",
       "        vertical-align: middle;\n",
       "    }\n",
       "\n",
       "    .dataframe tbody tr th {\n",
       "        vertical-align: top;\n",
       "    }\n",
       "\n",
       "    .dataframe thead th {\n",
       "        text-align: right;\n",
       "    }\n",
       "</style>\n",
       "<table border=\"1\" class=\"dataframe\">\n",
       "  <thead>\n",
       "    <tr style=\"text-align: right;\">\n",
       "      <th></th>\n",
       "      <th>periodo</th>\n",
       "      <th>saldo_inicial</th>\n",
       "      <th>pago_capital</th>\n",
       "      <th>intereses</th>\n",
       "      <th>saldo_final</th>\n",
       "      <th>pago_acumulado</th>\n",
       "      <th>pago_intereses_acum</th>\n",
       "      <th>pago_capital_acum</th>\n",
       "      <th>eficiencia</th>\n",
       "    </tr>\n",
       "  </thead>\n",
       "  <tbody>\n",
       "    <tr>\n",
       "      <th>0</th>\n",
       "      <td>1</td>\n",
       "      <td>410332.00</td>\n",
       "      <td>1496.63</td>\n",
       "      <td>3303.37</td>\n",
       "      <td>408835.37</td>\n",
       "      <td>4800</td>\n",
       "      <td>3303.37</td>\n",
       "      <td>1496.63</td>\n",
       "      <td>0.311798</td>\n",
       "    </tr>\n",
       "    <tr>\n",
       "      <th>1</th>\n",
       "      <td>2</td>\n",
       "      <td>408835.37</td>\n",
       "      <td>1508.68</td>\n",
       "      <td>3291.32</td>\n",
       "      <td>407326.69</td>\n",
       "      <td>9600</td>\n",
       "      <td>6594.69</td>\n",
       "      <td>3005.31</td>\n",
       "      <td>0.314308</td>\n",
       "    </tr>\n",
       "    <tr>\n",
       "      <th>2</th>\n",
       "      <td>3</td>\n",
       "      <td>407326.69</td>\n",
       "      <td>1520.83</td>\n",
       "      <td>3279.17</td>\n",
       "      <td>405805.86</td>\n",
       "      <td>14400</td>\n",
       "      <td>9873.86</td>\n",
       "      <td>4526.14</td>\n",
       "      <td>0.316840</td>\n",
       "    </tr>\n",
       "    <tr>\n",
       "      <th>3</th>\n",
       "      <td>4</td>\n",
       "      <td>405805.86</td>\n",
       "      <td>1533.07</td>\n",
       "      <td>3266.93</td>\n",
       "      <td>404272.79</td>\n",
       "      <td>19200</td>\n",
       "      <td>13140.79</td>\n",
       "      <td>6059.21</td>\n",
       "      <td>0.319390</td>\n",
       "    </tr>\n",
       "    <tr>\n",
       "      <th>4</th>\n",
       "      <td>5</td>\n",
       "      <td>404272.79</td>\n",
       "      <td>1545.41</td>\n",
       "      <td>3254.59</td>\n",
       "      <td>402727.38</td>\n",
       "      <td>24000</td>\n",
       "      <td>16395.38</td>\n",
       "      <td>7604.62</td>\n",
       "      <td>0.321960</td>\n",
       "    </tr>\n",
       "    <tr>\n",
       "      <th>...</th>\n",
       "      <td>...</td>\n",
       "      <td>...</td>\n",
       "      <td>...</td>\n",
       "      <td>...</td>\n",
       "      <td>...</td>\n",
       "      <td>...</td>\n",
       "      <td>...</td>\n",
       "      <td>...</td>\n",
       "      <td>...</td>\n",
       "    </tr>\n",
       "    <tr>\n",
       "      <th>141</th>\n",
       "      <td>142</td>\n",
       "      <td>20406.91</td>\n",
       "      <td>4635.71</td>\n",
       "      <td>164.29</td>\n",
       "      <td>15771.20</td>\n",
       "      <td>681600</td>\n",
       "      <td>287039.20</td>\n",
       "      <td>394560.80</td>\n",
       "      <td>0.965773</td>\n",
       "    </tr>\n",
       "    <tr>\n",
       "      <th>142</th>\n",
       "      <td>143</td>\n",
       "      <td>15771.20</td>\n",
       "      <td>4673.03</td>\n",
       "      <td>126.97</td>\n",
       "      <td>11098.17</td>\n",
       "      <td>686400</td>\n",
       "      <td>287166.17</td>\n",
       "      <td>399233.83</td>\n",
       "      <td>0.973548</td>\n",
       "    </tr>\n",
       "    <tr>\n",
       "      <th>143</th>\n",
       "      <td>144</td>\n",
       "      <td>11098.17</td>\n",
       "      <td>4710.65</td>\n",
       "      <td>89.35</td>\n",
       "      <td>6387.52</td>\n",
       "      <td>691200</td>\n",
       "      <td>287255.52</td>\n",
       "      <td>403944.48</td>\n",
       "      <td>0.981385</td>\n",
       "    </tr>\n",
       "    <tr>\n",
       "      <th>144</th>\n",
       "      <td>145</td>\n",
       "      <td>6387.52</td>\n",
       "      <td>4748.58</td>\n",
       "      <td>51.42</td>\n",
       "      <td>1638.94</td>\n",
       "      <td>696000</td>\n",
       "      <td>287306.94</td>\n",
       "      <td>408693.06</td>\n",
       "      <td>0.989287</td>\n",
       "    </tr>\n",
       "    <tr>\n",
       "      <th>145</th>\n",
       "      <td>146</td>\n",
       "      <td>1638.94</td>\n",
       "      <td>4786.81</td>\n",
       "      <td>13.19</td>\n",
       "      <td>-3147.87</td>\n",
       "      <td>700800</td>\n",
       "      <td>287320.13</td>\n",
       "      <td>413479.87</td>\n",
       "      <td>0.997252</td>\n",
       "    </tr>\n",
       "  </tbody>\n",
       "</table>\n",
       "<p>146 rows × 9 columns</p>\n",
       "</div>"
      ],
      "text/plain": [
       "     periodo  saldo_inicial  pago_capital  intereses  saldo_final  \\\n",
       "0          1      410332.00       1496.63    3303.37    408835.37   \n",
       "1          2      408835.37       1508.68    3291.32    407326.69   \n",
       "2          3      407326.69       1520.83    3279.17    405805.86   \n",
       "3          4      405805.86       1533.07    3266.93    404272.79   \n",
       "4          5      404272.79       1545.41    3254.59    402727.38   \n",
       "..       ...            ...           ...        ...          ...   \n",
       "141      142       20406.91       4635.71     164.29     15771.20   \n",
       "142      143       15771.20       4673.03     126.97     11098.17   \n",
       "143      144       11098.17       4710.65      89.35      6387.52   \n",
       "144      145        6387.52       4748.58      51.42      1638.94   \n",
       "145      146        1638.94       4786.81      13.19     -3147.87   \n",
       "\n",
       "     pago_acumulado  pago_intereses_acum  pago_capital_acum  eficiencia  \n",
       "0              4800              3303.37            1496.63    0.311798  \n",
       "1              9600              6594.69            3005.31    0.314308  \n",
       "2             14400              9873.86            4526.14    0.316840  \n",
       "3             19200             13140.79            6059.21    0.319390  \n",
       "4             24000             16395.38            7604.62    0.321960  \n",
       "..              ...                  ...                ...         ...  \n",
       "141          681600            287039.20          394560.80    0.965773  \n",
       "142          686400            287166.17          399233.83    0.973548  \n",
       "143          691200            287255.52          403944.48    0.981385  \n",
       "144          696000            287306.94          408693.06    0.989287  \n",
       "145          700800            287320.13          413479.87    0.997252  \n",
       "\n",
       "[146 rows x 9 columns]"
      ]
     },
     "execution_count": 629,
     "metadata": {},
     "output_type": "execute_result"
    }
   ],
   "source": [
    "amortizacion_df=pd.DataFrame(dictionaries_joining(table_dict))\n",
    "amortizacion_df.loc[:,'eficiencia']=amortizacion_df['pago_capital']/(amortizacion_df['pago_capital']+amortizacion_df['intereses'])\n",
    "amortizacion_df"
   ]
  },
  {
   "cell_type": "code",
   "execution_count": 630,
   "id": "6a5a4e1b-dfd7-48d1-bba2-eadb5dfc599d",
   "metadata": {},
   "outputs": [
    {
     "data": {
      "text/plain": [
       "0.5900112300228312"
      ]
     },
     "execution_count": 630,
     "metadata": {},
     "output_type": "execute_result"
    }
   ],
   "source": [
    "amortizacion_df.loc[amortizacion_df.index[-1],'pago_capital_acum']/(amortizacion_df.loc[amortizacion_df.index[-1],'pago_intereses_acum']+amortizacion_df.loc[amortizacion_df.index[-1],'pago_capital_acum'])\n"
   ]
  },
  {
   "cell_type": "code",
   "execution_count": 631,
   "id": "4926dc3b-550b-45cc-8157-cb8436c9e6f9",
   "metadata": {},
   "outputs": [
    {
     "data": {
      "image/png": "[encoded data removed]",
      "text/plain": [
       "<Figure size 432x288 with 1 Axes>"
      ]
     },
     "metadata": {
      "needs_background": "light"
     },
     "output_type": "display_data"
    }
   ],
   "source": [
    "import matplotlib.pyplot as plt\n",
    "import numpy as np\n",
    "\n",
    "# plt.style.use('_mpl-gallery')\n",
    "\n",
    "# make data\n",
    "x = np.arange(0, 10, 2)\n",
    "ay = [1, 1.25, 2, 2.75, 3]\n",
    "by = [1, 1, 1, 1, 1]\n",
    "cy = [2, 1, 2, 1, 2]\n",
    "y = np.vstack([ay, by, cy])\n",
    "\n",
    "# plot\n",
    "fig, ax = plt.subplots()\n",
    "\n",
    "ax.stackplot(x, y)\n",
    "\n",
    "ax.set(xlim=(0, 8), xticks=np.arange(1, 8),\n",
    "       ylim=(0, 8), yticks=np.arange(1, 8))\n",
    "\n",
    "plt.show()"
   ]
  },
  {
   "cell_type": "code",
   "execution_count": 632,
   "id": "7666d783-61fd-4ed6-b125-8ba0cdbbb678",
   "metadata": {},
   "outputs": [
    {
     "data": {
      "text/plain": [
       "<matplotlib.legend.Legend at 0x1a407fd51c0>"
      ]
     },
     "execution_count": 632,
     "metadata": {},
     "output_type": "execute_result"
    },
    {
     "data": {
      "image/png": "[encoded data removed]",
      "text/plain": [
       "<Figure size 1800x720 with 1 Axes>"
      ]
     },
     "metadata": {
      "needs_background": "light"
     },
     "output_type": "display_data"
    }
   ],
   "source": [
    "fig, ax = plt.subplots(figsize=(25,10))\n",
    "ax.bar(periods, amortizacion_df['intereses'], label='intereses')\n",
    "ax.bar(periods, amortizacion_df['pago_capital'],bottom= amortizacion_df['intereses'],label='capital')\n",
    "ax.legend()"
   ]
  },
  {
   "cell_type": "code",
   "execution_count": 633,
   "id": "ec68352c-4d36-417d-8341-41c5524e0be2",
   "metadata": {},
   "outputs": [
    {
     "data": {
      "text/plain": [
       "(0.0, 700000.0)"
      ]
     },
     "execution_count": 633,
     "metadata": {},
     "output_type": "execute_result"
    },
    {
     "data": {
      "image/png": "[encoded data removed]",
      "text/plain": [
       "<Figure size 1800x720 with 2 Axes>"
      ]
     },
     "metadata": {
      "needs_background": "light"
     },
     "output_type": "display_data"
    }
   ],
   "source": [
    "fig, ax = plt.subplots(figsize=(25,10))\n",
    "ax.bar(periods, amortizacion_df['pago_intereses_acum'], label='intereses')\n",
    "ax.bar(periods, amortizacion_df['pago_capital_acum'],bottom= amortizacion_df['pago_intereses_acum'],label='capital')\n",
    "# ax.plot(amortizacion_df['pago_intereses_acum'].diff())\n",
    "ax2= ax.twinx()\n",
    "ax2.plot(amortizacion_df['eficiencia'])\n",
    "ax.legend()\n",
    "ax.set_ylim(0,700000)"
   ]
  },
  {
   "cell_type": "code",
   "execution_count": 596,
   "id": "2a0bfeee-e423-4b25-8b56-ca00818b7ec4",
   "metadata": {},
   "outputs": [
    {
     "data": {
      "text/plain": [
       "44"
      ]
     },
     "execution_count": 596,
     "metadata": {},
     "output_type": "execute_result"
    }
   ],
   "source": [
    "len(periods)"
   ]
  },
  {
   "cell_type": "code",
   "execution_count": 553,
   "id": "7b1c3eb1-e568-45ca-b93a-d7bc2e17bfd7",
   "metadata": {},
   "outputs": [
    {
     "data": {
      "text/plain": [
       "8"
      ]
     },
     "execution_count": 553,
     "metadata": {},
     "output_type": "execute_result"
    }
   ],
   "source": [
    "len(dictionary_heo.keys())"
   ]
  },
  {
   "cell_type": "code",
   "execution_count": 634,
   "id": "d9744cdf-bf81-4755-a6fd-527129e872c3",
   "metadata": {},
   "outputs": [
    {
     "data": {
      "text/plain": [
       "0.006727763730540239"
      ]
     },
     "execution_count": 634,
     "metadata": {},
     "output_type": "execute_result"
    }
   ],
   "source": [
    "779.10/115803.71"
   ]
  },
  {
   "cell_type": "code",
   "execution_count": 635,
   "id": "a5d9144d-b1bd-4781-94fa-63f61e604c14",
   "metadata": {},
   "outputs": [
    {
     "data": {
      "text/plain": [
       "0.0069527579013043735"
      ]
     },
     "execution_count": 635,
     "metadata": {},
     "output_type": "execute_result"
    }
   ],
   "source": [
    "802.35/115400.25"
   ]
  },
  {
   "cell_type": "code",
   "execution_count": null,
   "id": "dd06aed3-f9ce-4cf6-b2ac-c02719af1507",
   "metadata": {},
   "outputs": [],
   "source": [
    ".007"
   ]
  },
  {
   "cell_type": "code",
   "execution_count": null,
   "id": "ea0b0acf-2590-40c8-aa24-217805627ba4",
   "metadata": {},
   "outputs": [],
   "source": []
  },
  {
   "cell_type": "code",
   "execution_count": null,
   "id": "775a5589-875b-4800-b920-077b31e4fa64",
   "metadata": {},
   "outputs": [],
   "source": []
  }
 ],
 "metadata": {
  "kernelspec": {
   "display_name": "Python 3",
   "language": "python",
   "name": "python3"
  },
  "language_info": {
   "codemirror_mode": {
    "name": "ipython",
    "version": 3
   },
   "file_extension": ".py",
   "mimetype": "text/x-python",
   "name": "python",
   "nbconvert_exporter": "python",
   "pygments_lexer": "ipython3",
   "version": "3.9.13"
  }
 },
 "nbformat": 4,
 "nbformat_minor": 5
}
